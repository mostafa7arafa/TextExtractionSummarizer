{
 "cells": [
  {
   "cell_type": "markdown",
   "metadata": {},
   "source": [
    "# Text summarization using text extraction"
   ]
  },
  {
   "cell_type": "markdown",
   "metadata": {},
   "source": [
    "### There are two main approaches to automatically summarize the text \n",
    "- Abstractive\n",
    "- Extractive \n",
    "<br />\n",
    "The main difference between them is how information is extracted from the document and how the summary is generated."
   ]
  },
  {
   "cell_type": "markdown",
   "metadata": {},
   "source": [
    "### <i>Let's get started</i>"
   ]
  },
  {
   "cell_type": "code",
   "execution_count": 1,
   "metadata": {},
   "outputs": [],
   "source": [
    "text = \"\"\"\n",
    "In today's fast-paced world, technology plays a crucial role in every aspect of our lives. From communication to transportation, healthcare to entertainment, technology has revolutionized the way we live, work, and interact with the world around us. With the advent of artificial intelligence, machine learning, and big data analytics, we are witnessing unprecedented advancements in various fields. However, along with the benefits come challenges such as cybersecurity threats, privacy concerns, and ethical dilemmas. As we navigate this digital age, it's essential to harness the power of technology responsibly, ensuring that it serves the greater good while respecting individual rights and societal values. By leveraging innovation and collaboration, we can address these challenges and create a brighter future for generations to come. \"\"\""
   ]
  },
  {
   "cell_type": "code",
   "execution_count": 2,
   "metadata": {},
   "outputs": [],
   "source": [
    "# !pip install -U spacy\n",
    "# !python -m spacy download en_core_web_sm"
   ]
  },
  {
   "cell_type": "code",
   "execution_count": 3,
   "metadata": {},
   "outputs": [],
   "source": [
    "import spacy\n",
    "from spacy.lang.en.stop_words import STOP_WORDS\n",
    "from string import punctuation"
   ]
  },
  {
   "cell_type": "code",
   "execution_count": 4,
   "metadata": {},
   "outputs": [],
   "source": [
    "stopwords = list(STOP_WORDS)"
   ]
  },
  {
   "cell_type": "code",
   "execution_count": 5,
   "metadata": {},
   "outputs": [],
   "source": [
    "nlp = spacy.load('en_core_web_sm')"
   ]
  },
  {
   "cell_type": "code",
   "execution_count": 6,
   "metadata": {},
   "outputs": [],
   "source": [
    "document = nlp(text)"
   ]
  },
  {
   "cell_type": "code",
   "execution_count": 7,
   "metadata": {},
   "outputs": [
    {
     "name": "stdout",
     "output_type": "stream",
     "text": [
      "['\\n', 'In', 'today', \"'s\", 'fast', '-', 'paced', 'world', ',', 'technology', 'plays', 'a', 'crucial', 'role', 'in', 'every', 'aspect', 'of', 'our', 'lives', '.', 'From', 'communication', 'to', 'transportation', ',', 'healthcare', 'to', 'entertainment', ',', 'technology', 'has', 'revolutionized', 'the', 'way', 'we', 'live', ',', 'work', ',', 'and', 'interact', 'with', 'the', 'world', 'around', 'us', '.', 'With', 'the', 'advent', 'of', 'artificial', 'intelligence', ',', 'machine', 'learning', ',', 'and', 'big', 'data', 'analytics', ',', 'we', 'are', 'witnessing', 'unprecedented', 'advancements', 'in', 'various', 'fields', '.', 'However', ',', 'along', 'with', 'the', 'benefits', 'come', 'challenges', 'such', 'as', 'cybersecurity', 'threats', ',', 'privacy', 'concerns', ',', 'and', 'ethical', 'dilemmas', '.', 'As', 'we', 'navigate', 'this', 'digital', 'age', ',', 'it', \"'s\", 'essential', 'to', 'harness', 'the', 'power', 'of', 'technology', 'responsibly', ',', 'ensuring', 'that', 'it', 'serves', 'the', 'greater', 'good', 'while', 'respecting', 'individual', 'rights', 'and', 'societal', 'values', '.', 'By', 'leveraging', 'innovation', 'and', 'collaboration', ',', 'we', 'can', 'address', 'these', 'challenges', 'and', 'create', 'a', 'brighter', 'future', 'for', 'generations', 'to', 'come', '.']\n"
     ]
    }
   ],
   "source": [
    "tokens = [token.text for token in document]\n",
    "print(tokens)"
   ]
  },
  {
   "cell_type": "code",
   "execution_count": 8,
   "metadata": {},
   "outputs": [
    {
     "data": {
      "text/plain": [
       "'!\"#$%&\\'()*+,-./:;<=>?@[\\\\]^_`{|}~\\n'"
      ]
     },
     "execution_count": 8,
     "metadata": {},
     "output_type": "execute_result"
    }
   ],
   "source": [
    "punctuation = punctuation + '\\n'\n",
    "punctuation"
   ]
  },
  {
   "cell_type": "code",
   "execution_count": 9,
   "metadata": {},
   "outputs": [],
   "source": [
    "word_frequrncies = {}\n",
    "for word in document:\n",
    "    if word.text.lower() not in stopwords:\n",
    "        if word.text.lower() not in punctuation:\n",
    "            if word.text.lower() not in word_frequrncies:\n",
    "                word_frequrncies[word.text.lower()] = 1\n",
    "            else:\n",
    "                word_frequrncies[word.text.lower()] = word_frequrncies[word.text.lower()] + 1"
   ]
  },
  {
   "cell_type": "code",
   "execution_count": 10,
   "metadata": {},
   "outputs": [
    {
     "data": {
      "text/plain": [
       "{'today': 1,\n",
       " 'fast': 1,\n",
       " 'paced': 1,\n",
       " 'world': 2,\n",
       " 'technology': 3,\n",
       " 'plays': 1,\n",
       " 'crucial': 1,\n",
       " 'role': 1,\n",
       " 'aspect': 1,\n",
       " 'lives': 1,\n",
       " 'communication': 1,\n",
       " 'transportation': 1,\n",
       " 'healthcare': 1,\n",
       " 'entertainment': 1,\n",
       " 'revolutionized': 1,\n",
       " 'way': 1,\n",
       " 'live': 1,\n",
       " 'work': 1,\n",
       " 'interact': 1,\n",
       " 'advent': 1,\n",
       " 'artificial': 1,\n",
       " 'intelligence': 1,\n",
       " 'machine': 1,\n",
       " 'learning': 1,\n",
       " 'big': 1,\n",
       " 'data': 1,\n",
       " 'analytics': 1,\n",
       " 'witnessing': 1,\n",
       " 'unprecedented': 1,\n",
       " 'advancements': 1,\n",
       " 'fields': 1,\n",
       " 'benefits': 1,\n",
       " 'come': 2,\n",
       " 'challenges': 2,\n",
       " 'cybersecurity': 1,\n",
       " 'threats': 1,\n",
       " 'privacy': 1,\n",
       " 'concerns': 1,\n",
       " 'ethical': 1,\n",
       " 'dilemmas': 1,\n",
       " 'navigate': 1,\n",
       " 'digital': 1,\n",
       " 'age': 1,\n",
       " 'essential': 1,\n",
       " 'harness': 1,\n",
       " 'power': 1,\n",
       " 'responsibly': 1,\n",
       " 'ensuring': 1,\n",
       " 'serves': 1,\n",
       " 'greater': 1,\n",
       " 'good': 1,\n",
       " 'respecting': 1,\n",
       " 'individual': 1,\n",
       " 'rights': 1,\n",
       " 'societal': 1,\n",
       " 'values': 1,\n",
       " 'leveraging': 1,\n",
       " 'innovation': 1,\n",
       " 'collaboration': 1,\n",
       " 'address': 1,\n",
       " 'create': 1,\n",
       " 'brighter': 1,\n",
       " 'future': 1,\n",
       " 'generations': 1}"
      ]
     },
     "execution_count": 10,
     "metadata": {},
     "output_type": "execute_result"
    }
   ],
   "source": [
    "word_frequrncies"
   ]
  },
  {
   "cell_type": "code",
   "execution_count": 11,
   "metadata": {},
   "outputs": [
    {
     "data": {
      "text/plain": [
       "3"
      ]
     },
     "execution_count": 11,
     "metadata": {},
     "output_type": "execute_result"
    }
   ],
   "source": [
    "max_frequency = max(word_frequrncies.values())\n",
    "max_frequency"
   ]
  },
  {
   "cell_type": "code",
   "execution_count": 12,
   "metadata": {},
   "outputs": [
    {
     "data": {
      "text/plain": [
       "['way', 'big', 'age']"
      ]
     },
     "execution_count": 12,
     "metadata": {},
     "output_type": "execute_result"
    }
   ],
   "source": [
    "listOfMax = [text for text in word_frequrncies if  len(text) == max_frequency]\n",
    "listOfMax"
   ]
  },
  {
   "cell_type": "code",
   "execution_count": 13,
   "metadata": {},
   "outputs": [
    {
     "data": {
      "text/plain": [
       "{'today': 0.3333333333333333,\n",
       " 'fast': 0.3333333333333333,\n",
       " 'paced': 0.3333333333333333,\n",
       " 'world': 0.6666666666666666,\n",
       " 'technology': 1.0,\n",
       " 'plays': 0.3333333333333333,\n",
       " 'crucial': 0.3333333333333333,\n",
       " 'role': 0.3333333333333333,\n",
       " 'aspect': 0.3333333333333333,\n",
       " 'lives': 0.3333333333333333,\n",
       " 'communication': 0.3333333333333333,\n",
       " 'transportation': 0.3333333333333333,\n",
       " 'healthcare': 0.3333333333333333,\n",
       " 'entertainment': 0.3333333333333333,\n",
       " 'revolutionized': 0.3333333333333333,\n",
       " 'way': 0.3333333333333333,\n",
       " 'live': 0.3333333333333333,\n",
       " 'work': 0.3333333333333333,\n",
       " 'interact': 0.3333333333333333,\n",
       " 'advent': 0.3333333333333333,\n",
       " 'artificial': 0.3333333333333333,\n",
       " 'intelligence': 0.3333333333333333,\n",
       " 'machine': 0.3333333333333333,\n",
       " 'learning': 0.3333333333333333,\n",
       " 'big': 0.3333333333333333,\n",
       " 'data': 0.3333333333333333,\n",
       " 'analytics': 0.3333333333333333,\n",
       " 'witnessing': 0.3333333333333333,\n",
       " 'unprecedented': 0.3333333333333333,\n",
       " 'advancements': 0.3333333333333333,\n",
       " 'fields': 0.3333333333333333,\n",
       " 'benefits': 0.3333333333333333,\n",
       " 'come': 0.6666666666666666,\n",
       " 'challenges': 0.6666666666666666,\n",
       " 'cybersecurity': 0.3333333333333333,\n",
       " 'threats': 0.3333333333333333,\n",
       " 'privacy': 0.3333333333333333,\n",
       " 'concerns': 0.3333333333333333,\n",
       " 'ethical': 0.3333333333333333,\n",
       " 'dilemmas': 0.3333333333333333,\n",
       " 'navigate': 0.3333333333333333,\n",
       " 'digital': 0.3333333333333333,\n",
       " 'age': 0.3333333333333333,\n",
       " 'essential': 0.3333333333333333,\n",
       " 'harness': 0.3333333333333333,\n",
       " 'power': 0.3333333333333333,\n",
       " 'responsibly': 0.3333333333333333,\n",
       " 'ensuring': 0.3333333333333333,\n",
       " 'serves': 0.3333333333333333,\n",
       " 'greater': 0.3333333333333333,\n",
       " 'good': 0.3333333333333333,\n",
       " 'respecting': 0.3333333333333333,\n",
       " 'individual': 0.3333333333333333,\n",
       " 'rights': 0.3333333333333333,\n",
       " 'societal': 0.3333333333333333,\n",
       " 'values': 0.3333333333333333,\n",
       " 'leveraging': 0.3333333333333333,\n",
       " 'innovation': 0.3333333333333333,\n",
       " 'collaboration': 0.3333333333333333,\n",
       " 'address': 0.3333333333333333,\n",
       " 'create': 0.3333333333333333,\n",
       " 'brighter': 0.3333333333333333,\n",
       " 'future': 0.3333333333333333,\n",
       " 'generations': 0.3333333333333333}"
      ]
     },
     "execution_count": 13,
     "metadata": {},
     "output_type": "execute_result"
    }
   ],
   "source": [
    "for word in word_frequrncies.keys():\n",
    "    word_frequrncies[word] = word_frequrncies[word] / max_frequency\n",
    "word_frequrncies"
   ]
  },
  {
   "cell_type": "code",
   "execution_count": 14,
   "metadata": {},
   "outputs": [
    {
     "data": {
      "text/plain": [
       "[\n",
       " In today's fast-paced world, technology plays a crucial role in every aspect of our lives.,\n",
       " From communication to transportation, healthcare to entertainment, technology has revolutionized the way we live, work, and interact with the world around us.,\n",
       " With the advent of artificial intelligence, machine learning, and big data analytics, we are witnessing unprecedented advancements in various fields.,\n",
       " However, along with the benefits come challenges such as cybersecurity threats, privacy concerns, and ethical dilemmas.,\n",
       " As we navigate this digital age, it's essential to harness the power of technology responsibly, ensuring that it serves the greater good while respecting individual rights and societal values.,\n",
       " By leveraging innovation and collaboration, we can address these challenges and create a brighter future for generations to come.]"
      ]
     },
     "execution_count": 14,
     "metadata": {},
     "output_type": "execute_result"
    }
   ],
   "source": [
    "sentence_tokens = [snt for snt in document.sents]\n",
    "sentence_tokens"
   ]
  },
  {
   "cell_type": "code",
   "execution_count": 15,
   "metadata": {},
   "outputs": [],
   "source": [
    "sentence_scores = {}\n",
    "for snt in sentence_tokens:\n",
    "    for word in snt:\n",
    "        if word.text.lower() in word_frequrncies.keys():\n",
    "            if snt not in sentence_scores.keys():\n",
    "                sentence_scores[snt] = word_frequrncies[word.text.lower()] \n",
    "            else:\n",
    "                sentence_scores[snt] += word_frequrncies[word.text.lower()] "
   ]
  },
  {
   "cell_type": "code",
   "execution_count": 16,
   "metadata": {},
   "outputs": [
    {
     "data": {
      "text/plain": [
       "{\n",
       " In today's fast-paced world, technology plays a crucial role in every aspect of our lives.: 4.333333333333333,\n",
       " From communication to transportation, healthcare to entertainment, technology has revolutionized the way we live, work, and interact with the world around us.: 4.666666666666667,\n",
       " With the advent of artificial intelligence, machine learning, and big data analytics, we are witnessing unprecedented advancements in various fields.: 4.0,\n",
       " However, along with the benefits come challenges such as cybersecurity threats, privacy concerns, and ethical dilemmas.: 3.666666666666667,\n",
       " As we navigate this digital age, it's essential to harness the power of technology responsibly, ensuring that it serves the greater good while respecting individual rights and societal values.: 6.333333333333331,\n",
       " By leveraging innovation and collaboration, we can address these challenges and create a brighter future for generations to come.: 4.000000000000001}"
      ]
     },
     "execution_count": 16,
     "metadata": {},
     "output_type": "execute_result"
    }
   ],
   "source": [
    "sentence_scores"
   ]
  },
  {
   "cell_type": "code",
   "execution_count": 17,
   "metadata": {},
   "outputs": [],
   "source": [
    "from heapq import nlargest"
   ]
  },
  {
   "cell_type": "code",
   "execution_count": 18,
   "metadata": {},
   "outputs": [],
   "source": [
    "select_length = 3"
   ]
  },
  {
   "cell_type": "code",
   "execution_count": 19,
   "metadata": {},
   "outputs": [],
   "source": [
    "summary = nlargest(select_length, sentence_scores, key = sentence_scores.get)"
   ]
  },
  {
   "cell_type": "code",
   "execution_count": 20,
   "metadata": {},
   "outputs": [
    {
     "data": {
      "text/plain": [
       "[As we navigate this digital age, it's essential to harness the power of technology responsibly, ensuring that it serves the greater good while respecting individual rights and societal values.,\n",
       " From communication to transportation, healthcare to entertainment, technology has revolutionized the way we live, work, and interact with the world around us.,\n",
       " \n",
       " In today's fast-paced world, technology plays a crucial role in every aspect of our lives.]"
      ]
     },
     "execution_count": 20,
     "metadata": {},
     "output_type": "execute_result"
    }
   ],
   "source": [
    "summary"
   ]
  },
  {
   "cell_type": "markdown",
   "metadata": {},
   "source": [
    "## All in one big function "
   ]
  },
  {
   "cell_type": "code",
   "execution_count": 21,
   "metadata": {},
   "outputs": [],
   "source": [
    "from heapq import nlargest\n",
    "import spacy\n",
    "from spacy.lang.en.stop_words import STOP_WORDS\n",
    "from string import punctuation\n",
    "\n",
    "def Summarize(texto,target):\n",
    "    ## get the stop words from spacy library\n",
    "    stopwords = list(STOP_WORDS)\n",
    "\n",
    "    nlp = spacy.load('en_core_web_sm')\n",
    "\n",
    "    ##store the text in document of type nlp\n",
    "    document = nlp(texto)\n",
    "    tokens = [token.text for token in document]\n",
    "    \n",
    "    extra_punctuation = '\\n'\n",
    "    ##remove the punctuations and special characters\n",
    "    word_frequrncies = {}\n",
    "    for word in document:\n",
    "        if word.text.lower() not in stopwords:\n",
    "            if word.text.lower() not in punctuation + extra_punctuation:\n",
    "                if word.text.lower() not in word_frequrncies:\n",
    "                    word_frequrncies[word.text.lower()] = 1\n",
    "                else:\n",
    "                    word_frequrncies[word.text.lower()] += 1\n",
    "\n",
    "    max_frequency = max(word_frequrncies.values())\n",
    "\n",
    "    ##normalize the word count into  a percentage value between 0 to 1\n",
    "    for word in word_frequrncies.keys():\n",
    "        word_frequrncies[word] = word_frequrncies[word] / max_frequency\n",
    "\n",
    "    sentence_tokens = [snt for snt in document.sents]\n",
    "\n",
    "    sentence_scores = {}\n",
    "    for snt in sentence_tokens:\n",
    "        for word in snt:\n",
    "            if word.text.lower() in word_frequrncies.keys():\n",
    "                if snt not in sentence_scores.keys():\n",
    "                    sentence_scores[snt] = word_frequrncies[word.text.lower()] \n",
    "                else:\n",
    "                    sentence_scores[snt] += word_frequrncies[word.text.lower()]\n",
    "    \n",
    "    select_length = target\n",
    "\n",
    "    summary = nlargest(select_length, sentence_scores, key = sentence_scores.get)\n",
    "\n",
    "    summary_text = \" \".join(sentence.text for sentence in summary)\n",
    "\n",
    "    return summary_text"
   ]
  },
  {
   "cell_type": "code",
   "execution_count": 22,
   "metadata": {},
   "outputs": [],
   "source": [
    "# !pip install customtkinter\n",
    "# !pip install tk"
   ]
  },
  {
   "cell_type": "markdown",
   "metadata": {},
   "source": [
    "## The GUI"
   ]
  },
  {
   "cell_type": "code",
   "execution_count": 24,
   "metadata": {},
   "outputs": [
    {
     "name": "stdout",
     "output_type": "stream",
     "text": [
      "Done\n"
     ]
    }
   ],
   "source": [
    "import customtkinter\n",
    "\n",
    "def theGui():\n",
    "    customtkinter.set_appearance_mode(\"System\")  # Modes: system (default), light, dark\n",
    "    customtkinter.set_default_color_theme(\"blue\")  # Themes: blue (default), dark-blue, green\n",
    "\n",
    "    app = customtkinter.CTk()  # create CTk window like you do with the Tk window\n",
    "    app.title(\"Summarizer\")\n",
    "    app.geometry(\"720x680\")\n",
    "    app.grid_columnconfigure(0, weight=1)\n",
    "    def button_function():\n",
    "        print(\"Done\")\n",
    "        if(output.get(\"0.0\", \"end\")):\n",
    "            output.delete(\"0.0\", \"end\")  \n",
    "        text = intextbox.get(\"0.0\", \"end\")\n",
    "        try:\n",
    "            nOfSent = int(entry.get())\n",
    "            thesuma = Summarize(text,nOfSent)\n",
    "            output.insert(\"0.0\", thesuma) \n",
    "        except:\n",
    "            output.insert(\"0.0\", \"Not valid number of sentences\")\n",
    "\n",
    "            \n",
    "\n",
    "    label = customtkinter.CTkLabel(app, text=\"Text summarization using text extraction\", fg_color=\"transparent\" ,  font = ('poppins medium',20))\n",
    "    label.grid(column = 0, row = 0, padx = 10, pady = 10)\n",
    "    intextbox = customtkinter.CTkTextbox(app, width=500, height= 250)\n",
    "    # textbox.pack(padx = 2, pady = 10)\n",
    "    intextbox.grid(column = 0, row = 1, padx = 10, pady = 10 )\n",
    "    # Use CTkButton instead of tkinter Button\n",
    "    button = customtkinter.CTkButton(master=app, text=\"Summarize\", command=button_function)\n",
    "    button.grid(column = 0, row = 2 , padx = 10)\n",
    "\n",
    "    entry = customtkinter.CTkEntry(app, placeholder_text=\"n# of sentences\")\n",
    "    entry.grid(column = 0, row = 3, padx = 10, pady = 10)\n",
    "\n",
    "    output = customtkinter.CTkTextbox(app, width=500, height= 250)\n",
    "    # textbox.pack(padx = 2, pady = 10)\n",
    "    output.grid(column = 0, row = 4, padx = 10, pady = 10 )\n",
    "\n",
    "\n",
    "    app.mainloop()\n",
    "theGui()"
   ]
  }
 ],
 "metadata": {
  "kernelspec": {
   "display_name": "base",
   "language": "python",
   "name": "python3"
  },
  "language_info": {
   "codemirror_mode": {
    "name": "ipython",
    "version": 3
   },
   "file_extension": ".py",
   "mimetype": "text/x-python",
   "name": "python",
   "nbconvert_exporter": "python",
   "pygments_lexer": "ipython3",
   "version": "3.11.4"
  }
 },
 "nbformat": 4,
 "nbformat_minor": 2
}
